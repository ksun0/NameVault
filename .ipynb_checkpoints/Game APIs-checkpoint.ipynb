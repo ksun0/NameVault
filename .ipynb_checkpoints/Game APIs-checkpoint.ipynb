{
 "cells": [
  {
   "cell_type": "markdown",
   "metadata": {},
   "source": [
    "# Games"
   ]
  },
  {
   "cell_type": "markdown",
   "metadata": {},
   "source": [
    "### League of Legends"
   ]
  },
  {
   "cell_type": "markdown",
   "metadata": {},
   "source": [
    "API:\n",
    " * URL: https://developer.riotgames.com/\n",
    " * Username: namevault\n",
    " * Pass: *o!QEPj9R8xf\n",
    " * Key: RGAPI-8a1ff48b-0a67-4a61-82ee-deda7d47e774\n",
    " * Rate Limit: 10/10 seconds and 500/10 minutes"
   ]
  },
  {
   "cell_type": "markdown",
   "metadata": {},
   "source": [
    "Naming system:\n",
    " * Users level < 7: six months of account protection if inactive\n",
    " * Users level >= 7: six months + levels above 7 of account protection if inactive \n",
    " * Inactivity: playing no games\n",
    " * When a player account protection expires, the name will be free\n",
    "\n"
   ]
  },
  {
   "cell_type": "markdown",
   "metadata": {},
   "source": [
    "### World of Warcraft"
   ]
  },
  {
   "cell_type": "markdown",
   "metadata": {},
   "source": [
    "API:\n",
    " * URL: https://developer.riotgames.com/\n",
    " * Username: namevault\n",
    " * Pass: ke&K5NL$&z4S\n",
    " * Key: RGAPI-8a1ff48b-0a67-4a61-82ee-deda7d47e774\n",
    " * Rate Limit: 10/10 seconds and 500/10 minutes"
   ]
  },
  {
   "cell_type": "markdown",
   "metadata": {},
   "source": [
    "Naming system:\n",
    " * Releases names of players with inactive accounts (means all characters they own) around the launch of a new expansion. \n",
    " * Can have the same name on different servers (“realms”)\n",
    " * Names are case sensitive\n"
   ]
  },
  {
   "cell_type": "markdown",
   "metadata": {},
   "source": [
    "### RuneScape"
   ]
  },
  {
   "cell_type": "markdown",
   "metadata": {},
   "source": [
    "API:\n",
    " * http://services.runescape.com/m=hiscore_oldschool/index_lite.ws?player=NAMEHERE"
   ]
  },
  {
   "cell_type": "markdown",
   "metadata": {},
   "source": [
    "Naming system: \n",
    " * Can’t predict when names are coming out\n",
    " * Will release names during a cleanup event, people that are in risk of losing their names will be emailed (very hard for us to find out whether names will be released or not)\n",
    " * If players change their names, then their name becomes available in 30 days\n",
    " * If players change their name twice, then their original name becomes available immediately\n",
    " * Old school and regular RuneScape share a pool of names\n"
   ]
  },
  {
   "cell_type": "markdown",
   "metadata": {},
   "source": [
    "### Minecraft"
   ]
  },
  {
   "cell_type": "markdown",
   "metadata": {
    "collapsed": true
   },
   "source": [
    "API:\n",
    " * URL: https://api.mojang.com/users/profiles/minecraft/<username>\n"
   ]
  },
  {
   "cell_type": "markdown",
   "metadata": {},
   "source": [
    "Naming system:\n",
    " * If users change their names, then the name becomes available."
   ]
  }
 ],
 "metadata": {
  "kernelspec": {
   "display_name": "Python [Root]",
   "language": "python",
   "name": "Python [Root]"
  },
  "language_info": {
   "codemirror_mode": {
    "name": "ipython",
    "version": 3
   },
   "file_extension": ".py",
   "mimetype": "text/x-python",
   "name": "python",
   "nbconvert_exporter": "python",
   "pygments_lexer": "ipython3",
   "version": "3.5.2"
  }
 },
 "nbformat": 4,
 "nbformat_minor": 0
}
